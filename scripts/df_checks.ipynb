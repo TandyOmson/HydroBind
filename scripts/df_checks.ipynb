{
 "cells": [
  {
   "attachments": {},
   "cell_type": "markdown",
   "metadata": {},
   "source": [
    "Checking DataFrame at each point of the program"
   ]
  },
  {
   "cell_type": "code",
   "execution_count": 2,
   "metadata": {},
   "outputs": [
    {
     "name": "stdout",
     "output_type": "stream",
     "text": [
      "                                        SMILES  \\\n",
      "0       C12(CC3CC(C1)CC(C2)C3)C#Cc1cc(ccc1)C=C   \n",
      "1       C12(CC3CC(C1)CC(C2)C3)C#Cc1ccc(cc1)C=C   \n",
      "2            C12(CC3CC(C1)CC(C2)C3)C#Cc1ccccc1   \n",
      "4       C123C4C5CC(C1C1CC4CC(C3)C1)CC(C2)(C5)C   \n",
      "5        C12(CC3CC(C1)CC(C2)C3)C#CCC#CC(C)(C)C   \n",
      "...                                        ...   \n",
      "8987          c12c3c(cc(cc2cc(cc(c1cc3)C)C)C)C   \n",
      "8988                   c12c(c(cc(c1C)C)C)cccc2   \n",
      "8989                 c1(c(c(cc(c1C#C)C)C)C#C)C   \n",
      "8990  C12(C3(C4(C1(C1(C2(C3(C41C)C)C)C)C)C)C)C   \n",
      "8991                    C(c1c(cccc1C)C)(C)(C)C   \n",
      "\n",
      "                                                   mol  \\\n",
      "0     <rdkit.Chem.rdchem.Mol object at 0x7f58fd3f1e50>   \n",
      "1     <rdkit.Chem.rdchem.Mol object at 0x7f58fd30cc20>   \n",
      "2     <rdkit.Chem.rdchem.Mol object at 0x7f58fd30cc70>   \n",
      "4     <rdkit.Chem.rdchem.Mol object at 0x7f58fd30ccc0>   \n",
      "5     <rdkit.Chem.rdchem.Mol object at 0x7f58fd30cd10>   \n",
      "...                                                ...   \n",
      "8987  <rdkit.Chem.rdchem.Mol object at 0x7f58fcf9ce00>   \n",
      "8988  <rdkit.Chem.rdchem.Mol object at 0x7f58fcf9ce50>   \n",
      "8989  <rdkit.Chem.rdchem.Mol object at 0x7f58fcf9cea0>   \n",
      "8990  <rdkit.Chem.rdchem.Mol object at 0x7f58fcf9cef0>   \n",
      "8991  <rdkit.Chem.rdchem.Mol object at 0x7f58fcf9cf40>   \n",
      "\n",
      "                                             path  sa_score  \\\n",
      "0        ./../results/Dhydrocarbons/0_reduced.pdb  8.312691   \n",
      "1        ./../results/Dhydrocarbons/1_reduced.pdb  8.259306   \n",
      "2        ./../results/Dhydrocarbons/2_reduced.pdb  8.089017   \n",
      "4        ./../results/Dhydrocarbons/4_reduced.pdb  9.327063   \n",
      "5        ./../results/Dhydrocarbons/5_reduced.pdb  8.378761   \n",
      "...                                           ...       ...   \n",
      "8987  ./../results/Dhydrocarbons/8987_reduced.pdb  7.360392   \n",
      "8988  ./../results/Dhydrocarbons/8988_reduced.pdb  7.447051   \n",
      "8989  ./../results/Dhydrocarbons/8989_reduced.pdb  7.385816   \n",
      "8990  ./../results/Dhydrocarbons/8990_reduced.pdb  7.538604   \n",
      "8991  ./../results/Dhydrocarbons/8991_reduced.pdb  7.832326   \n",
      "\n",
      "                                            docked_mol  \n",
      "0     <rdkit.Chem.rdchem.Mol object at 0x7f58fcf9cf90>  \n",
      "1                                                  NaN  \n",
      "2                                                  NaN  \n",
      "4                                                  NaN  \n",
      "5                                                  NaN  \n",
      "...                                                ...  \n",
      "8987                                               NaN  \n",
      "8988                                               NaN  \n",
      "8989                                               NaN  \n",
      "8990                                               NaN  \n",
      "8991                                               NaN  \n",
      "\n",
      "[8824 rows x 5 columns]\n"
     ]
    }
   ],
   "source": [
    "import pandas as pd\n",
    "\n",
    "df = pd.read_pickle(\"/home/spine/DProjects/DhydroEn/results/Dhydrocarbons/all_mols_3.pkl\")\n",
    "print(df)"
   ]
  }
 ],
 "metadata": {
  "kernelspec": {
   "display_name": "Python 3",
   "language": "python",
   "name": "python3"
  },
  "language_info": {
   "codemirror_mode": {
    "name": "ipython",
    "version": 3
   },
   "file_extension": ".py",
   "mimetype": "text/x-python",
   "name": "python",
   "nbconvert_exporter": "python",
   "pygments_lexer": "ipython3",
   "version": "3.8.10"
  },
  "orig_nbformat": 4
 },
 "nbformat": 4,
 "nbformat_minor": 2
}
